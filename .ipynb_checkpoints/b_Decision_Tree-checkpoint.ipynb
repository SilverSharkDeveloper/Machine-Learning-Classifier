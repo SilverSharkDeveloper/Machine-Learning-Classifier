{
 "cells": [
  {
   "cell_type": "markdown",
   "id": "0d3703fb",
   "metadata": {},
   "source": [
    "### 🌳결정 트리(Decision Tree)\n",
    "##### 그림 출처: 코딩하는 수학쌤, 스팟\n",
    "- 매우 쉽고 유연하게 적용될 수 있는 알고리즘으로서 데이터의 스케일링, 정규화 등의 데이터 전처리의 의존도가 매우 적다.\n",
    "- 학습을 통해 데이터에 있는 규칙을 자동으로 찾아내어 Tree 기반의 분류 규칙을 만든다.\n",
    "- if-else 기반의 규칙을 사용하기 때문에 분류의 기준을 정하는 것이 알고리즘 성능에 많은 영향을 미친다.\n",
    "- 영향을 가장 많이 미치는 feature를 찾아낼 수도 있다.\n",
    "- 👎예측 성능을 향상시키기 위해서는 복잡한 규칙 구조를 가져야 하기 때문에 과적합(Overfitting)이 발생해서 예측 성능이 저하될 수도 있다. 따라서 트리의 크기를 사전에 제한하는 튜닝을 필요로 한다.\n",
    "<img src=\"./images/decision_tree01.jpg\" width=\"450\" style=\"margin-top:20px; margin-bottom:20px; margin-left: -30px\">  \n",
    "- 가장 상위 노드를 \"루트 노드\"라고 하며, 나머지 분기점을 \"서브 노드\", 결정된 분류값 노드를 \"리프 노드\"라고 한다.\n",
    "<img src=\"./images/decision_tree02.png\" width=\"450\" style=\"margin-top:20px; margin-bottom:20px; margin-left: -30px\">  \n",
    "- 복잡도를 감소시키는 것이 주목적이며, 정보의 복잡도를 불순도(Impurity)라고 하며, 이를 수치화한 값으로는 지니 계수(Gini coefiicient), 엔트로피(Entropy)가 있다.  \n",
    "- 1. 클래스가 섞이지 않고 분류가 잘 되었다면, 불순도가 낮다. \n",
    "- 2. 클래스가 섞여 있고, 분류가 잘 안되었다면, 불순도가 높다.\n",
    "<img src=\"./images/impurity.png\" width=\"350\" style=\"margin-top:20px; margin-left: -30px\">\n",
    "\n",
    "> ##### Gini coefiicient [지니 코우어피션트]  \n",
    "<img src=\"./images/gini01.png\" width=\"160\" style=\"margin-left: -10px\">\n",
    "> - 빨간 공 6개와 파란공 4개일 경우 G = 0.48\n",
    "<img src=\"./images/gini02.png\" width=\"280\" style=\"margin-left: -10px\">  \n",
    "\n",
    "> - 통계적 분산 정도를 정량화하여 표현한 값이고, 0과 1사이의 값을 가진다.\n",
    "> - 지니 계수가 낮을 수록 분류가 잘 된 것이다.\n",
    "> - Decision Tree Model  \n",
    "> CART (Classification and Regression Tree): 단 두개의 노드(Binary Tree)\n",
    "\n",
    "---\n",
    "> ##### Entropy\n",
    "<img src=\"./images/entropy01.png\" width=\"200\" style=\"margin-left: 0\">\n",
    "> - 빨간 공 6개와 파란공 4개일 경우 E = 0.97\n",
    "<img src=\"./images/entropy02.png\" width=\"250\" style=\"margin-left: 0\">\n",
    "<img src=\"./images/entropy03.png\" width=\"500\" style=\"margin-left: 0\">  \n",
    "\n",
    "> - 확률분포가 가지는 정보의 확신도 혹은 정보량(정보의 양)을 수치로 표현한 것이다.\n",
    "> - 엔트로피 값이 작을 수록 분류가 잘 된 것이다.\n",
    "> - Decision Tree Model  \n",
    "> ID3(Iterative Dichotomiser 3): 모든 독립변수가 범주형 데이터인 경우만 사용 가능  \n",
    "C4.5 (ID3 알고리즘의 결점을 보완): 여러 개의 자식 노드  \n",
    "> 📌범주형 데이터: 'A', 'B', 'C'와 같이 종류를 표시하는 데이터(카테고리 데이터)\n",
    "\n",
    "---\n",
    "> ##### Misclassification Rate\n",
    "> - 잘못 예측된 관측치의 백분율\n",
    "\n",
    "\n",
    "##### 📌과적합(Overfitting)\n",
    "- 학습 데이터를 과하게 잘 학습시켜서 오차가 오히려 증가하는 현상이다.\n",
    "- 예를 들어, 빨간색 사과의 feature를 과하게 학습시키면, 초록색 사과를 사과로 인식하지 못하게 된다.\n",
    "<img src=\"./images/overfitting.png\" width=\"350\" style=\"margin-left: -30px\">\n",
    "- 학습 데이터에 대해서는 오차가 감소하지만, 실제 데이터에 대해서는 오차가 증가한다."
   ]
  },
  {
   "cell_type": "markdown",
   "id": "cb13d742",
   "metadata": {},
   "source": [
    "### Graphviz\n",
    "- 결정트리 모델을 시각화할 수 있다.\n",
    "- https://graphviz.org/download/, graphviz-9.0.0 (64-bit) EXE installer [sha256]\n",
    "- https://drive.google.com/file/d/1oCXidIjNAvUT2UcNFEdhRfFhnZ96iHrp/view?usp=sharing"
   ]
  },
  {
   "cell_type": "code",
   "execution_count": 17,
   "id": "d24c5310",
   "metadata": {},
   "outputs": [
    {
     "data": {
      "text/html": [
       "<style>#sk-container-id-2 {color: black;}#sk-container-id-2 pre{padding: 0;}#sk-container-id-2 div.sk-toggleable {background-color: white;}#sk-container-id-2 label.sk-toggleable__label {cursor: pointer;display: block;width: 100%;margin-bottom: 0;padding: 0.3em;box-sizing: border-box;text-align: center;}#sk-container-id-2 label.sk-toggleable__label-arrow:before {content: \"▸\";float: left;margin-right: 0.25em;color: #696969;}#sk-container-id-2 label.sk-toggleable__label-arrow:hover:before {color: black;}#sk-container-id-2 div.sk-estimator:hover label.sk-toggleable__label-arrow:before {color: black;}#sk-container-id-2 div.sk-toggleable__content {max-height: 0;max-width: 0;overflow: hidden;text-align: left;background-color: #f0f8ff;}#sk-container-id-2 div.sk-toggleable__content pre {margin: 0.2em;color: black;border-radius: 0.25em;background-color: #f0f8ff;}#sk-container-id-2 input.sk-toggleable__control:checked~div.sk-toggleable__content {max-height: 200px;max-width: 100%;overflow: auto;}#sk-container-id-2 input.sk-toggleable__control:checked~label.sk-toggleable__label-arrow:before {content: \"▾\";}#sk-container-id-2 div.sk-estimator input.sk-toggleable__control:checked~label.sk-toggleable__label {background-color: #d4ebff;}#sk-container-id-2 div.sk-label input.sk-toggleable__control:checked~label.sk-toggleable__label {background-color: #d4ebff;}#sk-container-id-2 input.sk-hidden--visually {border: 0;clip: rect(1px 1px 1px 1px);clip: rect(1px, 1px, 1px, 1px);height: 1px;margin: -1px;overflow: hidden;padding: 0;position: absolute;width: 1px;}#sk-container-id-2 div.sk-estimator {font-family: monospace;background-color: #f0f8ff;border: 1px dotted black;border-radius: 0.25em;box-sizing: border-box;margin-bottom: 0.5em;}#sk-container-id-2 div.sk-estimator:hover {background-color: #d4ebff;}#sk-container-id-2 div.sk-parallel-item::after {content: \"\";width: 100%;border-bottom: 1px solid gray;flex-grow: 1;}#sk-container-id-2 div.sk-label:hover label.sk-toggleable__label {background-color: #d4ebff;}#sk-container-id-2 div.sk-serial::before {content: \"\";position: absolute;border-left: 1px solid gray;box-sizing: border-box;top: 0;bottom: 0;left: 50%;z-index: 0;}#sk-container-id-2 div.sk-serial {display: flex;flex-direction: column;align-items: center;background-color: white;padding-right: 0.2em;padding-left: 0.2em;position: relative;}#sk-container-id-2 div.sk-item {position: relative;z-index: 1;}#sk-container-id-2 div.sk-parallel {display: flex;align-items: stretch;justify-content: center;background-color: white;position: relative;}#sk-container-id-2 div.sk-item::before, #sk-container-id-2 div.sk-parallel-item::before {content: \"\";position: absolute;border-left: 1px solid gray;box-sizing: border-box;top: 0;bottom: 0;left: 50%;z-index: -1;}#sk-container-id-2 div.sk-parallel-item {display: flex;flex-direction: column;z-index: 1;position: relative;background-color: white;}#sk-container-id-2 div.sk-parallel-item:first-child::after {align-self: flex-end;width: 50%;}#sk-container-id-2 div.sk-parallel-item:last-child::after {align-self: flex-start;width: 50%;}#sk-container-id-2 div.sk-parallel-item:only-child::after {width: 0;}#sk-container-id-2 div.sk-dashed-wrapped {border: 1px dashed gray;margin: 0 0.4em 0.5em 0.4em;box-sizing: border-box;padding-bottom: 0.4em;background-color: white;}#sk-container-id-2 div.sk-label label {font-family: monospace;font-weight: bold;display: inline-block;line-height: 1.2em;}#sk-container-id-2 div.sk-label-container {text-align: center;}#sk-container-id-2 div.sk-container {/* jupyter's `normalize.less` sets `[hidden] { display: none; }` but bootstrap.min.css set `[hidden] { display: none !important; }` so we also need the `!important` here to be able to override the default hidden behavior on the sphinx rendered scikit-learn.org. See: https://github.com/scikit-learn/scikit-learn/issues/21755 */display: inline-block !important;position: relative;}#sk-container-id-2 div.sk-text-repr-fallback {display: none;}</style><div id=\"sk-container-id-2\" class=\"sk-top-container\"><div class=\"sk-text-repr-fallback\"><pre>DecisionTreeClassifier()</pre><b>In a Jupyter environment, please rerun this cell to show the HTML representation or trust the notebook. <br />On GitHub, the HTML representation is unable to render, please try loading this page with nbviewer.org.</b></div><div class=\"sk-container\" hidden><div class=\"sk-item\"><div class=\"sk-estimator sk-toggleable\"><input class=\"sk-toggleable__control sk-hidden--visually\" id=\"sk-estimator-id-2\" type=\"checkbox\" checked><label for=\"sk-estimator-id-2\" class=\"sk-toggleable__label sk-toggleable__label-arrow\">DecisionTreeClassifier</label><div class=\"sk-toggleable__content\"><pre>DecisionTreeClassifier()</pre></div></div></div></div></div>"
      ],
      "text/plain": [
       "DecisionTreeClassifier()"
      ]
     },
     "execution_count": 17,
     "metadata": {},
     "output_type": "execute_result"
    }
   ],
   "source": [
    "# 사이킷런 라이브러리에 내장된 iris(붓꽃) 데이터\n",
    "from sklearn.datasets import load_iris\n",
    "# 결정 트리 모델\n",
    "from sklearn.tree import DecisionTreeClassifier\n",
    "# 학습 데이터 세트와 테스트 데이터 세트를 분리해주는 라이브러리\n",
    "from sklearn.model_selection import train_test_split\n",
    "\n",
    "import pandas as pd\n",
    "\n",
    "# 붓꽃 데이터 세트 불러오기\n",
    "iris = load_iris()\n",
    "decision_tree_classifier = DecisionTreeClassifier()\n",
    "X_train,X_test,Y_train,Y_test = train_test_split(iris.data,iris.target, test_size=0.2, random_state=13)\n",
    "\n",
    "decision_tree_classifier.fit(X_train,Y_train)"
   ]
  },
  {
   "cell_type": "code",
   "execution_count": 18,
   "id": "1bfebadd",
   "metadata": {},
   "outputs": [],
   "source": [
    "from sklearn.tree import export_graphviz\n",
    "\n",
    "# export_graphviz()의 out_file로 지정된 iris_tree01.dot 파일을 생성\n",
    "export_graphviz(decision_tree_classifier\n",
    "                , out_file=\"./images/iris_tree01.dot\"\n",
    "                , class_names=iris.target_names\n",
    "                , feature_names=iris.feature_names\n",
    "                , impurity=True\n",
    "                , filled=True)"
   ]
  },
  {
   "cell_type": "code",
   "execution_count": 19,
   "id": "305ec518",
   "metadata": {},
   "outputs": [],
   "source": [
    "import graphviz\n",
    "\n",
    "with open(\"./images/iris_tree01.dot\") as f:\n",
    "    dot_graph = f.read()\n",
    "\n",
    "iris_tree01_graph = graphviz.Source(dot_graph)"
   ]
  },
  {
   "cell_type": "code",
   "execution_count": 20,
   "id": "5230ebdb",
   "metadata": {},
   "outputs": [
    {
     "data": {
      "text/plain": [
       "'images\\\\iris_tree01.png'"
      ]
     },
     "execution_count": 20,
     "metadata": {},
     "output_type": "execute_result"
    }
   ],
   "source": [
    "iris_tree01_graph.render(filename=\"iris_tree01\", directory='./images', format=\"png\")"
   ]
  },
  {
   "cell_type": "markdown",
   "id": "278019f2",
   "metadata": {},
   "source": [
    "<img src=\"./images/iris_tree01.png\" width=800 style=\"margin-left:0\">"
   ]
  },
  {
   "cell_type": "code",
   "execution_count": null,
   "id": "9106646f",
   "metadata": {},
   "outputs": [],
   "source": []
  }
 ],
 "metadata": {
  "kernelspec": {
   "display_name": "Python 3 (ipykernel)",
   "language": "python",
   "name": "python3"
  },
  "language_info": {
   "codemirror_mode": {
    "name": "ipython",
    "version": 3
   },
   "file_extension": ".py",
   "mimetype": "text/x-python",
   "name": "python",
   "nbconvert_exporter": "python",
   "pygments_lexer": "ipython3",
   "version": "3.11.5"
  }
 },
 "nbformat": 4,
 "nbformat_minor": 5
}

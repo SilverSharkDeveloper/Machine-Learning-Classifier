{
 "cells": [
  {
   "cell_type": "markdown",
   "id": "e6bae53d",
   "metadata": {},
   "source": [
    "### Naive Bayes Classifier Task\n",
    "### 문장에서 느껴지는 감정 예측\n",
    "##### 다중 분류(Multiclass Classification)\n",
    "- 비대면 심리 상담사로서 메세지를 전달한 환자에 대한 감정 데이터를 수집했다.\n",
    "- 각 메세지 별로 감정이 표시되어 있다.\n",
    "- 미래에 동일한 메세지를 보내는 환자에게 어떤 심리 치료가 적합할 수 있는지 알아보기 위한 모델을 구축한다.\n",
    "\n",
    "##### 🚩제시된 feature에 알맞은 target이 나올 수 있게 훈련한다.  \n",
    "- 'Sweat deer': love  \n",
    "- 'The moment I saw her, I realized something was wrong.': sadness"
   ]
  },
  {
   "cell_type": "code",
   "execution_count": 1,
   "id": "03f16a95",
   "metadata": {},
   "outputs": [
    {
     "data": {
      "text/plain": [
       "feeling\n",
       "joy         6066\n",
       "sadness     5216\n",
       "anger       2434\n",
       "fear        2149\n",
       "love        1482\n",
       "surprise     653\n",
       "Name: count, dtype: int64"
      ]
     },
     "execution_count": 1,
     "metadata": {},
     "output_type": "execute_result"
    }
   ],
   "source": [
    "import pandas as pd\n",
    "ms_df = pd.read_csv('./datasets/feeling.csv',sep=';')\n",
    "ms_df\n",
    "ms_df[\"feeling\"].value_counts()"
   ]
  },
  {
   "cell_type": "code",
   "execution_count": 2,
   "id": "0c2d45e7",
   "metadata": {},
   "outputs": [
    {
     "data": {
      "text/plain": [
       "feeling\n",
       "joy         6066\n",
       "sadness     5216\n",
       "anger       2434\n",
       "fear        2149\n",
       "love        1482\n",
       "surprise     653\n",
       "Name: count, dtype: int64"
      ]
     },
     "execution_count": 2,
     "metadata": {},
     "output_type": "execute_result"
    }
   ],
   "source": [
    "ms_df.describe().T\n",
    "ms_df[\"feeling\"].value_counts()"
   ]
  },
  {
   "cell_type": "code",
   "execution_count": 3,
   "id": "f7a488de",
   "metadata": {},
   "outputs": [
    {
     "name": "stdout",
     "output_type": "stream",
     "text": [
      "<class 'pandas.core.frame.DataFrame'>\n",
      "RangeIndex: 18000 entries, 0 to 17999\n",
      "Data columns (total 2 columns):\n",
      " #   Column   Non-Null Count  Dtype \n",
      "---  ------   --------------  ----- \n",
      " 0   message  18000 non-null  object\n",
      " 1   feeling  18000 non-null  object\n",
      "dtypes: object(2)\n",
      "memory usage: 281.4+ KB\n"
     ]
    }
   ],
   "source": [
    "ms_df.info()"
   ]
  },
  {
   "cell_type": "code",
   "execution_count": 4,
   "id": "3b0980b7",
   "metadata": {},
   "outputs": [
    {
     "data": {
      "text/plain": [
       "array(['anger', 'fear', 'joy', 'love', 'sadness', 'surprise'],\n",
       "      dtype=object)"
      ]
     },
     "execution_count": 4,
     "metadata": {},
     "output_type": "execute_result"
    }
   ],
   "source": [
    "from sklearn.preprocessing import LabelEncoder\n",
    "feeling_encoder = LabelEncoder()\n",
    "feeling_encoded= feeling_encoder.fit_transform(ms_df[\"feeling\"])\n",
    "ms_df[\"feeling\"] = feeling_encoded\n",
    "ms_df\n",
    "feeling_encoder.classes_"
   ]
  },
  {
   "cell_type": "code",
   "execution_count": 5,
   "id": "6245bec4",
   "metadata": {},
   "outputs": [
    {
     "data": {
      "text/html": [
       "<div>\n",
       "<style scoped>\n",
       "    .dataframe tbody tr th:only-of-type {\n",
       "        vertical-align: middle;\n",
       "    }\n",
       "\n",
       "    .dataframe tbody tr th {\n",
       "        vertical-align: top;\n",
       "    }\n",
       "\n",
       "    .dataframe thead th {\n",
       "        text-align: right;\n",
       "    }\n",
       "</style>\n",
       "<table border=\"1\" class=\"dataframe\">\n",
       "  <thead>\n",
       "    <tr style=\"text-align: right;\">\n",
       "      <th></th>\n",
       "      <th>message</th>\n",
       "      <th>feeling</th>\n",
       "    </tr>\n",
       "  </thead>\n",
       "  <tbody>\n",
       "    <tr>\n",
       "      <th>3293</th>\n",
       "      <td>i feel that it is dangerous to portray angels ...</td>\n",
       "      <td>0</td>\n",
       "    </tr>\n",
       "    <tr>\n",
       "      <th>17283</th>\n",
       "      <td>when reading a newspaper story of a man who ha...</td>\n",
       "      <td>0</td>\n",
       "    </tr>\n",
       "    <tr>\n",
       "      <th>15133</th>\n",
       "      <td>i feel like it but i cant i cant give in i am ...</td>\n",
       "      <td>0</td>\n",
       "    </tr>\n",
       "    <tr>\n",
       "      <th>7941</th>\n",
       "      <td>i feel so impatient and sometimes i feel thank...</td>\n",
       "      <td>0</td>\n",
       "    </tr>\n",
       "    <tr>\n",
       "      <th>7231</th>\n",
       "      <td>i guess you could say i am teeter totering rig...</td>\n",
       "      <td>0</td>\n",
       "    </tr>\n",
       "    <tr>\n",
       "      <th>...</th>\n",
       "      <td>...</td>\n",
       "      <td>...</td>\n",
       "    </tr>\n",
       "    <tr>\n",
       "      <th>11968</th>\n",
       "      <td>i feel like itd be strange at the least and po...</td>\n",
       "      <td>5</td>\n",
       "    </tr>\n",
       "    <tr>\n",
       "      <th>8803</th>\n",
       "      <td>i started feeling dazed</td>\n",
       "      <td>5</td>\n",
       "    </tr>\n",
       "    <tr>\n",
       "      <th>4991</th>\n",
       "      <td>i also feel amazed happy fortunate and extreme...</td>\n",
       "      <td>5</td>\n",
       "    </tr>\n",
       "    <tr>\n",
       "      <th>324</th>\n",
       "      <td>i saw him on galaxies magazine i feel curious ...</td>\n",
       "      <td>5</td>\n",
       "    </tr>\n",
       "    <tr>\n",
       "      <th>17623</th>\n",
       "      <td>ive been medicated today but i feel funny</td>\n",
       "      <td>5</td>\n",
       "    </tr>\n",
       "  </tbody>\n",
       "</table>\n",
       "<p>3918 rows × 2 columns</p>\n",
       "</div>"
      ],
      "text/plain": [
       "                                                 message  feeling\n",
       "3293   i feel that it is dangerous to portray angels ...        0\n",
       "17283  when reading a newspaper story of a man who ha...        0\n",
       "15133  i feel like it but i cant i cant give in i am ...        0\n",
       "7941   i feel so impatient and sometimes i feel thank...        0\n",
       "7231   i guess you could say i am teeter totering rig...        0\n",
       "...                                                  ...      ...\n",
       "11968  i feel like itd be strange at the least and po...        5\n",
       "8803                             i started feeling dazed        5\n",
       "4991   i also feel amazed happy fortunate and extreme...        5\n",
       "324    i saw him on galaxies magazine i feel curious ...        5\n",
       "17623          ive been medicated today but i feel funny        5\n",
       "\n",
       "[3918 rows x 2 columns]"
      ]
     },
     "metadata": {},
     "output_type": "display_data"
    }
   ],
   "source": [
    "from sklearn.model_selection import train_test_split\n",
    "\n",
    "#샘플링\n",
    "samples= []\n",
    "for i in range(6):\n",
    "    \n",
    "    sample = ms_df[ms_df[\"feeling\"]==i].sample(653)\n",
    "    samples.append(sample)\n",
    "\n",
    "sample_df = pd.concat(samples)\n",
    "display(sample_df)\n",
    "\n",
    "features = sample_df[\"message\"]\n",
    "targets = sample_df[\"feeling\"]\n",
    "\n",
    "\n",
    "X_train,X_test,y_train,y_test = train_test_split(features,targets,stratify=targets,random_state=124,test_size=0.1)\n"
   ]
  },
  {
   "cell_type": "code",
   "execution_count": 6,
   "id": "b85b62b9",
   "metadata": {},
   "outputs": [
    {
     "data": {
      "text/html": [
       "<style>#sk-container-id-1 {color: black;}#sk-container-id-1 pre{padding: 0;}#sk-container-id-1 div.sk-toggleable {background-color: white;}#sk-container-id-1 label.sk-toggleable__label {cursor: pointer;display: block;width: 100%;margin-bottom: 0;padding: 0.3em;box-sizing: border-box;text-align: center;}#sk-container-id-1 label.sk-toggleable__label-arrow:before {content: \"▸\";float: left;margin-right: 0.25em;color: #696969;}#sk-container-id-1 label.sk-toggleable__label-arrow:hover:before {color: black;}#sk-container-id-1 div.sk-estimator:hover label.sk-toggleable__label-arrow:before {color: black;}#sk-container-id-1 div.sk-toggleable__content {max-height: 0;max-width: 0;overflow: hidden;text-align: left;background-color: #f0f8ff;}#sk-container-id-1 div.sk-toggleable__content pre {margin: 0.2em;color: black;border-radius: 0.25em;background-color: #f0f8ff;}#sk-container-id-1 input.sk-toggleable__control:checked~div.sk-toggleable__content {max-height: 200px;max-width: 100%;overflow: auto;}#sk-container-id-1 input.sk-toggleable__control:checked~label.sk-toggleable__label-arrow:before {content: \"▾\";}#sk-container-id-1 div.sk-estimator input.sk-toggleable__control:checked~label.sk-toggleable__label {background-color: #d4ebff;}#sk-container-id-1 div.sk-label input.sk-toggleable__control:checked~label.sk-toggleable__label {background-color: #d4ebff;}#sk-container-id-1 input.sk-hidden--visually {border: 0;clip: rect(1px 1px 1px 1px);clip: rect(1px, 1px, 1px, 1px);height: 1px;margin: -1px;overflow: hidden;padding: 0;position: absolute;width: 1px;}#sk-container-id-1 div.sk-estimator {font-family: monospace;background-color: #f0f8ff;border: 1px dotted black;border-radius: 0.25em;box-sizing: border-box;margin-bottom: 0.5em;}#sk-container-id-1 div.sk-estimator:hover {background-color: #d4ebff;}#sk-container-id-1 div.sk-parallel-item::after {content: \"\";width: 100%;border-bottom: 1px solid gray;flex-grow: 1;}#sk-container-id-1 div.sk-label:hover label.sk-toggleable__label {background-color: #d4ebff;}#sk-container-id-1 div.sk-serial::before {content: \"\";position: absolute;border-left: 1px solid gray;box-sizing: border-box;top: 0;bottom: 0;left: 50%;z-index: 0;}#sk-container-id-1 div.sk-serial {display: flex;flex-direction: column;align-items: center;background-color: white;padding-right: 0.2em;padding-left: 0.2em;position: relative;}#sk-container-id-1 div.sk-item {position: relative;z-index: 1;}#sk-container-id-1 div.sk-parallel {display: flex;align-items: stretch;justify-content: center;background-color: white;position: relative;}#sk-container-id-1 div.sk-item::before, #sk-container-id-1 div.sk-parallel-item::before {content: \"\";position: absolute;border-left: 1px solid gray;box-sizing: border-box;top: 0;bottom: 0;left: 50%;z-index: -1;}#sk-container-id-1 div.sk-parallel-item {display: flex;flex-direction: column;z-index: 1;position: relative;background-color: white;}#sk-container-id-1 div.sk-parallel-item:first-child::after {align-self: flex-end;width: 50%;}#sk-container-id-1 div.sk-parallel-item:last-child::after {align-self: flex-start;width: 50%;}#sk-container-id-1 div.sk-parallel-item:only-child::after {width: 0;}#sk-container-id-1 div.sk-dashed-wrapped {border: 1px dashed gray;margin: 0 0.4em 0.5em 0.4em;box-sizing: border-box;padding-bottom: 0.4em;background-color: white;}#sk-container-id-1 div.sk-label label {font-family: monospace;font-weight: bold;display: inline-block;line-height: 1.2em;}#sk-container-id-1 div.sk-label-container {text-align: center;}#sk-container-id-1 div.sk-container {/* jupyter's `normalize.less` sets `[hidden] { display: none; }` but bootstrap.min.css set `[hidden] { display: none !important; }` so we also need the `!important` here to be able to override the default hidden behavior on the sphinx rendered scikit-learn.org. See: https://github.com/scikit-learn/scikit-learn/issues/21755 */display: inline-block !important;position: relative;}#sk-container-id-1 div.sk-text-repr-fallback {display: none;}</style><div id=\"sk-container-id-1\" class=\"sk-top-container\"><div class=\"sk-text-repr-fallback\"><pre>Pipeline(steps=[(&#x27;count_vectorizer&#x27;, CountVectorizer()),\n",
       "                (&#x27;naive_bayes&#x27;, MultinomialNB())])</pre><b>In a Jupyter environment, please rerun this cell to show the HTML representation or trust the notebook. <br />On GitHub, the HTML representation is unable to render, please try loading this page with nbviewer.org.</b></div><div class=\"sk-container\" hidden><div class=\"sk-item sk-dashed-wrapped\"><div class=\"sk-label-container\"><div class=\"sk-label sk-toggleable\"><input class=\"sk-toggleable__control sk-hidden--visually\" id=\"sk-estimator-id-1\" type=\"checkbox\" ><label for=\"sk-estimator-id-1\" class=\"sk-toggleable__label sk-toggleable__label-arrow\">Pipeline</label><div class=\"sk-toggleable__content\"><pre>Pipeline(steps=[(&#x27;count_vectorizer&#x27;, CountVectorizer()),\n",
       "                (&#x27;naive_bayes&#x27;, MultinomialNB())])</pre></div></div></div><div class=\"sk-serial\"><div class=\"sk-item\"><div class=\"sk-estimator sk-toggleable\"><input class=\"sk-toggleable__control sk-hidden--visually\" id=\"sk-estimator-id-2\" type=\"checkbox\" ><label for=\"sk-estimator-id-2\" class=\"sk-toggleable__label sk-toggleable__label-arrow\">CountVectorizer</label><div class=\"sk-toggleable__content\"><pre>CountVectorizer()</pre></div></div></div><div class=\"sk-item\"><div class=\"sk-estimator sk-toggleable\"><input class=\"sk-toggleable__control sk-hidden--visually\" id=\"sk-estimator-id-3\" type=\"checkbox\" ><label for=\"sk-estimator-id-3\" class=\"sk-toggleable__label sk-toggleable__label-arrow\">MultinomialNB</label><div class=\"sk-toggleable__content\"><pre>MultinomialNB()</pre></div></div></div></div></div></div></div>"
      ],
      "text/plain": [
       "Pipeline(steps=[('count_vectorizer', CountVectorizer()),\n",
       "                ('naive_bayes', MultinomialNB())])"
      ]
     },
     "execution_count": 6,
     "metadata": {},
     "output_type": "execute_result"
    }
   ],
   "source": [
    "from sklearn.feature_extraction.text import CountVectorizer\n",
    "from sklearn.naive_bayes import MultinomialNB\n",
    "from sklearn.pipeline import Pipeline\n",
    "\n",
    "countVectorizer = CountVectorizer()\n",
    "x_train_vectorized = countVectorizer.fit_transform(X_train)\n",
    "\n",
    "x_train_vectorized\n",
    "\n",
    "\n",
    "navie_bayes_pipeline = Pipeline([('count_vectorizer', CountVectorizer()), ('naive_bayes', MultinomialNB())])\n",
    "navie_bayes_pipeline.fit(X_train, y_train)"
   ]
  },
  {
   "cell_type": "code",
   "execution_count": 7,
   "id": "1de7ad99",
   "metadata": {},
   "outputs": [
    {
     "name": "stdout",
     "output_type": "stream",
     "text": [
      "Index([ 6605, 13666,  9023, 10320, 13500, 13842, 13584,  4895,  4781,  7786,\n",
      "       ...\n",
      "        7681,   583,  6807, 11435, 10708,  7980,  8541,  6900,  1584,  6724],\n",
      "      dtype='int64', length=392)\n"
     ]
    },
    {
     "data": {
      "text/plain": [
       "0.7346938775510204"
      ]
     },
     "execution_count": 7,
     "metadata": {},
     "output_type": "execute_result"
    }
   ],
   "source": [
    "y_pred = navie_bayes_pipeline.predict(X_test)\n",
    "print(X_test.index)\n",
    "ms_df_test = sample_df.loc[X_test.index]\n",
    "ms_df_test[\"y_pred\"] = y_pred\n",
    "ms_df_test\n",
    "\n",
    "navie_bayes_pipeline.score(X_test, y_test)"
   ]
  },
  {
   "cell_type": "code",
   "execution_count": 8,
   "id": "b7e1b028",
   "metadata": {},
   "outputs": [
    {
     "data": {
      "text/plain": [
       "array([[0.75853456, 0.02553766, 0.06302847, 0.06647645, 0.05252241,\n",
       "        0.03390046],\n",
       "       [0.05122867, 0.01233767, 0.2393093 , 0.61077527, 0.00513439,\n",
       "        0.0812147 ],\n",
       "       [0.03155106, 0.05604885, 0.15265582, 0.00777135, 0.35992419,\n",
       "        0.39204874],\n",
       "       ...,\n",
       "       [0.00694071, 0.00543784, 0.01330527, 0.97049469, 0.00199376,\n",
       "        0.00182772],\n",
       "       [0.91855715, 0.0290406 , 0.00930506, 0.0179188 , 0.01886226,\n",
       "        0.00631612],\n",
       "       [0.08985015, 0.08787297, 0.25680471, 0.07949003, 0.04665726,\n",
       "        0.43932489]])"
      ]
     },
     "execution_count": 8,
     "metadata": {},
     "output_type": "execute_result"
    }
   ],
   "source": [
    "navie_bayes_pipeline.predict_proba(X_test)"
   ]
  },
  {
   "cell_type": "code",
   "execution_count": 9,
   "id": "b5dbdaae",
   "metadata": {},
   "outputs": [],
   "source": [
    "# from sklearn.metrics import accuracy_score, precision_score , recall_score , confusion_matrix, ConfusionMatrixDisplay, f1_score, roc_auc_score\n",
    "# import matplotlib.pyplot as plt\n",
    "# # 타겟 데이터와 예측 객체를 전달받는다.\n",
    "# def get_evaluation(y_test, prediction, classifier=None, X_test=None):\n",
    "# #     오차 행렬\n",
    "#     confusion = confusion_matrix(y_test, prediction)\n",
    "# #     정확도\n",
    "#     accuracy = accuracy_score(y_test , prediction,average='macro')\n",
    "# #     정밀도\n",
    "#     precision = precision_score(y_test , prediction,average='macro')\n",
    "# #     재현율\n",
    "#     recall = recall_score(y_test , prediction,average='macro')\n",
    "# #     F1 score\n",
    "#     f1 = f1_score(y_test, prediction,average='macro')\n",
    "# #     ROC-AUC\n",
    "#     roc_auc = roc_auc_score(y_test, prediction,average='macro')\n",
    "\n",
    "#     print('오차 행렬')\n",
    "#     print(confusion)\n",
    "#     print('정확도: {0:.4f}, 정밀도: {1:.4f}, 재현율: {2:.4f}, F1:{3:.4f}, AUC:{4:.4f}'.format(accuracy , precision ,recall, f1, roc_auc))\n",
    "#     print(\"#\" * 75)\n",
    "    \n",
    "#     if classifier is not None and  X_test is not None:\n",
    "#         fig, axes = plt.subplots(nrows=1, ncols=2, figsize=(8,4))\n",
    "#         titles_options = [(\"Confusion matrix\", None), (\"Normalized confusion matrix\", \"true\")]\n",
    "\n",
    "#         for (title, normalize), ax in zip(titles_options, axes.flatten()):\n",
    "#             disp = ConfusionMatrixDisplay.from_estimator(classifier, X_test, y_test, ax=ax, cmap=plt.cm.Blues, normalize=normalize)\n",
    "#             disp.ax_.set_title(title)\n",
    "#         plt.show()"
   ]
  },
  {
   "cell_type": "code",
   "execution_count": 10,
   "id": "bf1fecf4",
   "metadata": {},
   "outputs": [],
   "source": [
    "# get_evaluation(y_test, y_pred, navie_bayes_pipeline, X_test)"
   ]
  },
  {
   "cell_type": "code",
   "execution_count": 46,
   "id": "a34761db",
   "metadata": {},
   "outputs": [
    {
     "name": "stdout",
     "output_type": "stream",
     "text": [
      "['anger' 'fear' 'joy' 'love' 'sadness' 'surprise']\n"
     ]
    },
    {
     "data": {
      "text/plain": [
       "array([3, 0, 3, 5, 2, 3, 4, 0, 2, 2, 2, 4])"
      ]
     },
     "execution_count": 46,
     "metadata": {},
     "output_type": "execute_result"
    }
   ],
   "source": [
    "\n",
    "print(feeling_encoder.classes_)\n",
    "# navie_bayes_pipeline.predict([\"Sweat deer\",\"The moment I saw her, I realized something was wrong.\"])\n",
    "# navie_bayes_pipeline.predict([\"The moment I saw her, I realized something was wrong.\"])\n",
    "navie_bayes_pipeline.predict([\"i love you\",\"oops\",\"oh my god\",\"really?\",\"are you serious?\",\"i think you are wrong\",\"i'm so gloomy\",\n",
    "                              \"i got what i want\",\"coffee is good\",\"i'm good\",\"good to see you\",\"crazy acade love sad angry\"])"
   ]
  }
 ],
 "metadata": {
  "kernelspec": {
   "display_name": "Python 3 (ipykernel)",
   "language": "python",
   "name": "python3"
  },
  "language_info": {
   "codemirror_mode": {
    "name": "ipython",
    "version": 3
   },
   "file_extension": ".py",
   "mimetype": "text/x-python",
   "name": "python",
   "nbconvert_exporter": "python",
   "pygments_lexer": "ipython3",
   "version": "3.11.5"
  }
 },
 "nbformat": 4,
 "nbformat_minor": 5
}

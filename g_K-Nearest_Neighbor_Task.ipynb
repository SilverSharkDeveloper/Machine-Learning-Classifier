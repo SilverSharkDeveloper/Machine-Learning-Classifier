{
 "cells": [
  {
   "cell_type": "markdown",
   "id": "57c5468a",
   "metadata": {},
   "source": [
    "### k-Nearest Neighbor Task\n",
    "\n",
    "##### 수면 중 스트레스 정도 예측\n",
    "\n",
    "##### feature\n",
    "- sr(snoring_rate): 수면 중 코골이의 속도 또는 강도, 어떤 단위 또는 규모로 측정될 수 있습니다  \n",
    "- rr(respiration_rate): 수면 중 분당 취해진 호흡의 수  \n",
    "- t(body_temperature): 수면 중 사용자의 체온으로, 섭씨 또는 화씨로 측정될 수 있습니다  \n",
    "- lm(limb_movement): 수면 중 사지 운동의 속도 또는 강도로, 그 사람이 얼마나 활동적이거나 불안정한지를 나타냅니다  \n",
    "- bo(blood_oxygen): 수면 중 혈액에 존재하는 산소의 양을 나타내는 혈중 산소 농도입니다  \n",
    "- rem(eye_movement): 수면 중 안구 운동 활동으로, 수면 중 급격한 안구 운동(REM) 단계를 나타낼 수 있습니다  \n",
    "- sr.1(sleeping_hours): 특정 수면 시간 동안 잠을 잔 시간입니다  \n",
    "- hr(heart_rate): 수면 중 분당 심장 박동 수, 전반적인 건강 및 수면의 질과 관련된 필수 생리학적 매개 변수  \n",
    "\n",
    "##### target\n",
    "- sl(stress_level): 수면 중 스트레스 정도를 나타내는 목표 변수로 다음과 같이 구분됩니다"
   ]
  },
  {
   "cell_type": "code",
   "execution_count": 2,
   "id": "214e4b88",
   "metadata": {},
   "outputs": [
    {
     "data": {
      "text/html": [
       "<div>\n",
       "<style scoped>\n",
       "    .dataframe tbody tr th:only-of-type {\n",
       "        vertical-align: middle;\n",
       "    }\n",
       "\n",
       "    .dataframe tbody tr th {\n",
       "        vertical-align: top;\n",
       "    }\n",
       "\n",
       "    .dataframe thead th {\n",
       "        text-align: right;\n",
       "    }\n",
       "</style>\n",
       "<table border=\"1\" class=\"dataframe\">\n",
       "  <thead>\n",
       "    <tr style=\"text-align: right;\">\n",
       "      <th></th>\n",
       "      <th>sr</th>\n",
       "      <th>rr</th>\n",
       "      <th>t</th>\n",
       "      <th>lm</th>\n",
       "      <th>bo</th>\n",
       "      <th>rem</th>\n",
       "      <th>sr.1</th>\n",
       "      <th>hr</th>\n",
       "      <th>sl</th>\n",
       "    </tr>\n",
       "  </thead>\n",
       "  <tbody>\n",
       "    <tr>\n",
       "      <th>0</th>\n",
       "      <td>93.800</td>\n",
       "      <td>25.680</td>\n",
       "      <td>91.840</td>\n",
       "      <td>16.600</td>\n",
       "      <td>89.840</td>\n",
       "      <td>99.60</td>\n",
       "      <td>1.840</td>\n",
       "      <td>74.20</td>\n",
       "      <td>3</td>\n",
       "    </tr>\n",
       "    <tr>\n",
       "      <th>1</th>\n",
       "      <td>91.640</td>\n",
       "      <td>25.104</td>\n",
       "      <td>91.552</td>\n",
       "      <td>15.880</td>\n",
       "      <td>89.552</td>\n",
       "      <td>98.88</td>\n",
       "      <td>1.552</td>\n",
       "      <td>72.76</td>\n",
       "      <td>3</td>\n",
       "    </tr>\n",
       "    <tr>\n",
       "      <th>2</th>\n",
       "      <td>60.000</td>\n",
       "      <td>20.000</td>\n",
       "      <td>96.000</td>\n",
       "      <td>10.000</td>\n",
       "      <td>95.000</td>\n",
       "      <td>85.00</td>\n",
       "      <td>7.000</td>\n",
       "      <td>60.00</td>\n",
       "      <td>1</td>\n",
       "    </tr>\n",
       "    <tr>\n",
       "      <th>3</th>\n",
       "      <td>85.760</td>\n",
       "      <td>23.536</td>\n",
       "      <td>90.768</td>\n",
       "      <td>13.920</td>\n",
       "      <td>88.768</td>\n",
       "      <td>96.92</td>\n",
       "      <td>0.768</td>\n",
       "      <td>68.84</td>\n",
       "      <td>3</td>\n",
       "    </tr>\n",
       "    <tr>\n",
       "      <th>4</th>\n",
       "      <td>48.120</td>\n",
       "      <td>17.248</td>\n",
       "      <td>97.872</td>\n",
       "      <td>6.496</td>\n",
       "      <td>96.248</td>\n",
       "      <td>72.48</td>\n",
       "      <td>8.248</td>\n",
       "      <td>53.12</td>\n",
       "      <td>0</td>\n",
       "    </tr>\n",
       "    <tr>\n",
       "      <th>...</th>\n",
       "      <td>...</td>\n",
       "      <td>...</td>\n",
       "      <td>...</td>\n",
       "      <td>...</td>\n",
       "      <td>...</td>\n",
       "      <td>...</td>\n",
       "      <td>...</td>\n",
       "      <td>...</td>\n",
       "      <td>...</td>\n",
       "    </tr>\n",
       "    <tr>\n",
       "      <th>625</th>\n",
       "      <td>69.600</td>\n",
       "      <td>20.960</td>\n",
       "      <td>92.960</td>\n",
       "      <td>10.960</td>\n",
       "      <td>90.960</td>\n",
       "      <td>89.80</td>\n",
       "      <td>3.440</td>\n",
       "      <td>62.40</td>\n",
       "      <td>2</td>\n",
       "    </tr>\n",
       "    <tr>\n",
       "      <th>626</th>\n",
       "      <td>48.440</td>\n",
       "      <td>17.376</td>\n",
       "      <td>98.064</td>\n",
       "      <td>6.752</td>\n",
       "      <td>96.376</td>\n",
       "      <td>73.76</td>\n",
       "      <td>8.376</td>\n",
       "      <td>53.44</td>\n",
       "      <td>0</td>\n",
       "    </tr>\n",
       "    <tr>\n",
       "      <th>627</th>\n",
       "      <td>97.504</td>\n",
       "      <td>27.504</td>\n",
       "      <td>86.880</td>\n",
       "      <td>17.752</td>\n",
       "      <td>84.256</td>\n",
       "      <td>101.88</td>\n",
       "      <td>0.000</td>\n",
       "      <td>78.76</td>\n",
       "      <td>4</td>\n",
       "    </tr>\n",
       "    <tr>\n",
       "      <th>628</th>\n",
       "      <td>58.640</td>\n",
       "      <td>19.728</td>\n",
       "      <td>95.728</td>\n",
       "      <td>9.728</td>\n",
       "      <td>94.592</td>\n",
       "      <td>84.32</td>\n",
       "      <td>6.728</td>\n",
       "      <td>59.32</td>\n",
       "      <td>1</td>\n",
       "    </tr>\n",
       "    <tr>\n",
       "      <th>629</th>\n",
       "      <td>73.920</td>\n",
       "      <td>21.392</td>\n",
       "      <td>93.392</td>\n",
       "      <td>11.392</td>\n",
       "      <td>91.392</td>\n",
       "      <td>91.96</td>\n",
       "      <td>4.088</td>\n",
       "      <td>63.48</td>\n",
       "      <td>2</td>\n",
       "    </tr>\n",
       "  </tbody>\n",
       "</table>\n",
       "<p>630 rows × 9 columns</p>\n",
       "</div>"
      ],
      "text/plain": [
       "         sr      rr       t      lm      bo     rem   sr.1     hr  sl\n",
       "0    93.800  25.680  91.840  16.600  89.840   99.60  1.840  74.20   3\n",
       "1    91.640  25.104  91.552  15.880  89.552   98.88  1.552  72.76   3\n",
       "2    60.000  20.000  96.000  10.000  95.000   85.00  7.000  60.00   1\n",
       "3    85.760  23.536  90.768  13.920  88.768   96.92  0.768  68.84   3\n",
       "4    48.120  17.248  97.872   6.496  96.248   72.48  8.248  53.12   0\n",
       "..      ...     ...     ...     ...     ...     ...    ...    ...  ..\n",
       "625  69.600  20.960  92.960  10.960  90.960   89.80  3.440  62.40   2\n",
       "626  48.440  17.376  98.064   6.752  96.376   73.76  8.376  53.44   0\n",
       "627  97.504  27.504  86.880  17.752  84.256  101.88  0.000  78.76   4\n",
       "628  58.640  19.728  95.728   9.728  94.592   84.32  6.728  59.32   1\n",
       "629  73.920  21.392  93.392  11.392  91.392   91.96  4.088  63.48   2\n",
       "\n",
       "[630 rows x 9 columns]"
      ]
     },
     "execution_count": 2,
     "metadata": {},
     "output_type": "execute_result"
    }
   ],
   "source": [
    "import pandas as pd\n",
    "\n",
    "st_df = pd.read_csv('./datasets/stress_in_sleep.csv')\n",
    "st_df"
   ]
  },
  {
   "cell_type": "code",
   "execution_count": 4,
   "id": "c5297cef",
   "metadata": {},
   "outputs": [
    {
     "data": {
      "text/plain": [
       "sr      0\n",
       "rr      0\n",
       "t       0\n",
       "lm      0\n",
       "bo      0\n",
       "rem     0\n",
       "sr.1    0\n",
       "hr      0\n",
       "sl      0\n",
       "dtype: int64"
      ]
     },
     "execution_count": 4,
     "metadata": {},
     "output_type": "execute_result"
    }
   ],
   "source": [
    "st_df.isna().sum()"
   ]
  },
  {
   "cell_type": "code",
   "execution_count": 6,
   "id": "d750cb2a",
   "metadata": {},
   "outputs": [
    {
     "data": {
      "text/plain": [
       "0"
      ]
     },
     "execution_count": 6,
     "metadata": {},
     "output_type": "execute_result"
    }
   ],
   "source": [
    "st_df.duplicated().sum()"
   ]
  },
  {
   "cell_type": "code",
   "execution_count": 7,
   "id": "b173d920",
   "metadata": {},
   "outputs": [],
   "source": [
    "from sklearn.model_selection import GridSearchCV\n",
    "from sklearn.neighbors import KNeighborsClassifier\n",
    "\n",
    "k_neighbors_classifier = KNeighborsClassifier()\n",
    "\n",
    "grid_knn = GridSearchCV(k_neighbors_classifier, {'n_neighbors': [2,3, 5, 7, 9, 11]}, cv=3, refit=True, return_train_score=True)"
   ]
  },
  {
   "cell_type": "code",
   "execution_count": 9,
   "id": "70e8495d",
   "metadata": {},
   "outputs": [
    {
     "data": {
      "text/html": [
       "<style>#sk-container-id-2 {color: black;}#sk-container-id-2 pre{padding: 0;}#sk-container-id-2 div.sk-toggleable {background-color: white;}#sk-container-id-2 label.sk-toggleable__label {cursor: pointer;display: block;width: 100%;margin-bottom: 0;padding: 0.3em;box-sizing: border-box;text-align: center;}#sk-container-id-2 label.sk-toggleable__label-arrow:before {content: \"▸\";float: left;margin-right: 0.25em;color: #696969;}#sk-container-id-2 label.sk-toggleable__label-arrow:hover:before {color: black;}#sk-container-id-2 div.sk-estimator:hover label.sk-toggleable__label-arrow:before {color: black;}#sk-container-id-2 div.sk-toggleable__content {max-height: 0;max-width: 0;overflow: hidden;text-align: left;background-color: #f0f8ff;}#sk-container-id-2 div.sk-toggleable__content pre {margin: 0.2em;color: black;border-radius: 0.25em;background-color: #f0f8ff;}#sk-container-id-2 input.sk-toggleable__control:checked~div.sk-toggleable__content {max-height: 200px;max-width: 100%;overflow: auto;}#sk-container-id-2 input.sk-toggleable__control:checked~label.sk-toggleable__label-arrow:before {content: \"▾\";}#sk-container-id-2 div.sk-estimator input.sk-toggleable__control:checked~label.sk-toggleable__label {background-color: #d4ebff;}#sk-container-id-2 div.sk-label input.sk-toggleable__control:checked~label.sk-toggleable__label {background-color: #d4ebff;}#sk-container-id-2 input.sk-hidden--visually {border: 0;clip: rect(1px 1px 1px 1px);clip: rect(1px, 1px, 1px, 1px);height: 1px;margin: -1px;overflow: hidden;padding: 0;position: absolute;width: 1px;}#sk-container-id-2 div.sk-estimator {font-family: monospace;background-color: #f0f8ff;border: 1px dotted black;border-radius: 0.25em;box-sizing: border-box;margin-bottom: 0.5em;}#sk-container-id-2 div.sk-estimator:hover {background-color: #d4ebff;}#sk-container-id-2 div.sk-parallel-item::after {content: \"\";width: 100%;border-bottom: 1px solid gray;flex-grow: 1;}#sk-container-id-2 div.sk-label:hover label.sk-toggleable__label {background-color: #d4ebff;}#sk-container-id-2 div.sk-serial::before {content: \"\";position: absolute;border-left: 1px solid gray;box-sizing: border-box;top: 0;bottom: 0;left: 50%;z-index: 0;}#sk-container-id-2 div.sk-serial {display: flex;flex-direction: column;align-items: center;background-color: white;padding-right: 0.2em;padding-left: 0.2em;position: relative;}#sk-container-id-2 div.sk-item {position: relative;z-index: 1;}#sk-container-id-2 div.sk-parallel {display: flex;align-items: stretch;justify-content: center;background-color: white;position: relative;}#sk-container-id-2 div.sk-item::before, #sk-container-id-2 div.sk-parallel-item::before {content: \"\";position: absolute;border-left: 1px solid gray;box-sizing: border-box;top: 0;bottom: 0;left: 50%;z-index: -1;}#sk-container-id-2 div.sk-parallel-item {display: flex;flex-direction: column;z-index: 1;position: relative;background-color: white;}#sk-container-id-2 div.sk-parallel-item:first-child::after {align-self: flex-end;width: 50%;}#sk-container-id-2 div.sk-parallel-item:last-child::after {align-self: flex-start;width: 50%;}#sk-container-id-2 div.sk-parallel-item:only-child::after {width: 0;}#sk-container-id-2 div.sk-dashed-wrapped {border: 1px dashed gray;margin: 0 0.4em 0.5em 0.4em;box-sizing: border-box;padding-bottom: 0.4em;background-color: white;}#sk-container-id-2 div.sk-label label {font-family: monospace;font-weight: bold;display: inline-block;line-height: 1.2em;}#sk-container-id-2 div.sk-label-container {text-align: center;}#sk-container-id-2 div.sk-container {/* jupyter's `normalize.less` sets `[hidden] { display: none; }` but bootstrap.min.css set `[hidden] { display: none !important; }` so we also need the `!important` here to be able to override the default hidden behavior on the sphinx rendered scikit-learn.org. See: https://github.com/scikit-learn/scikit-learn/issues/21755 */display: inline-block !important;position: relative;}#sk-container-id-2 div.sk-text-repr-fallback {display: none;}</style><div id=\"sk-container-id-2\" class=\"sk-top-container\"><div class=\"sk-text-repr-fallback\"><pre>GridSearchCV(cv=3, estimator=KNeighborsClassifier(),\n",
       "             param_grid={&#x27;n_neighbors&#x27;: [2, 3, 5, 7, 9, 11]},\n",
       "             return_train_score=True)</pre><b>In a Jupyter environment, please rerun this cell to show the HTML representation or trust the notebook. <br />On GitHub, the HTML representation is unable to render, please try loading this page with nbviewer.org.</b></div><div class=\"sk-container\" hidden><div class=\"sk-item sk-dashed-wrapped\"><div class=\"sk-label-container\"><div class=\"sk-label sk-toggleable\"><input class=\"sk-toggleable__control sk-hidden--visually\" id=\"sk-estimator-id-4\" type=\"checkbox\" ><label for=\"sk-estimator-id-4\" class=\"sk-toggleable__label sk-toggleable__label-arrow\">GridSearchCV</label><div class=\"sk-toggleable__content\"><pre>GridSearchCV(cv=3, estimator=KNeighborsClassifier(),\n",
       "             param_grid={&#x27;n_neighbors&#x27;: [2, 3, 5, 7, 9, 11]},\n",
       "             return_train_score=True)</pre></div></div></div><div class=\"sk-parallel\"><div class=\"sk-parallel-item\"><div class=\"sk-item\"><div class=\"sk-label-container\"><div class=\"sk-label sk-toggleable\"><input class=\"sk-toggleable__control sk-hidden--visually\" id=\"sk-estimator-id-5\" type=\"checkbox\" ><label for=\"sk-estimator-id-5\" class=\"sk-toggleable__label sk-toggleable__label-arrow\">estimator: KNeighborsClassifier</label><div class=\"sk-toggleable__content\"><pre>KNeighborsClassifier()</pre></div></div></div><div class=\"sk-serial\"><div class=\"sk-item\"><div class=\"sk-estimator sk-toggleable\"><input class=\"sk-toggleable__control sk-hidden--visually\" id=\"sk-estimator-id-6\" type=\"checkbox\" ><label for=\"sk-estimator-id-6\" class=\"sk-toggleable__label sk-toggleable__label-arrow\">KNeighborsClassifier</label><div class=\"sk-toggleable__content\"><pre>KNeighborsClassifier()</pre></div></div></div></div></div></div></div></div></div></div>"
      ],
      "text/plain": [
       "GridSearchCV(cv=3, estimator=KNeighborsClassifier(),\n",
       "             param_grid={'n_neighbors': [2, 3, 5, 7, 9, 11]},\n",
       "             return_train_score=True)"
      ]
     },
     "execution_count": 9,
     "metadata": {},
     "output_type": "execute_result"
    }
   ],
   "source": [
    "from sklearn.model_selection import train_test_split\n",
    "\n",
    "features, targets = st_df.iloc[:,:-1], st_df.iloc[:,-1]\n",
    "\n",
    "X_train, X_test, y_train, y_test = train_test_split(features, targets, test_size=0.2,stratify=targets)\n",
    "\n",
    "grid_knn.fit(X_train, y_train)"
   ]
  },
  {
   "cell_type": "code",
   "execution_count": 18,
   "id": "d4d5a11d",
   "metadata": {},
   "outputs": [],
   "source": [
    "from sklearn.metrics import accuracy_score, precision_score , recall_score , confusion_matrix, ConfusionMatrixDisplay, f1_score, roc_auc_score\n",
    "import matplotlib.pyplot as plt\n",
    "# 타겟 데이터와 예측 객체를 전달받는다.\n",
    "def get_evaluation(y_test, prediction, classifier=None, X_test=None):\n",
    "#     오차 행렬\n",
    "    confusion = confusion_matrix(y_test, prediction)\n",
    "#     정확도\n",
    "    accuracy = accuracy_score(y_test , prediction)\n",
    "#     정밀도\n",
    "    precision = precision_score(y_test , prediction ,average=\"macro\")\n",
    "#     재현율\n",
    "    recall = recall_score(y_test , prediction,average=\"macro\")\n",
    "#     F1 score\n",
    "    f1 = f1_score(y_test, prediction,average=\"macro\")\n",
    "#     ROC-AUC\n",
    "#     roc_auc = roc_auc_score(y_test, prediction)\n",
    "\n",
    "    print('오차 행렬')\n",
    "    print(confusion)\n",
    "    print('정확도: {0:.4f}, 정밀도: {1:.4f}, 재현율: {2:.4f}, F1:{3:.4f}'.format(accuracy , precision ,recall, f1))\n",
    "    print(\"#\" * 75)\n",
    "    \n",
    "    if classifier is not None and  X_test is not None:\n",
    "        fig, axes = plt.subplots(nrows=1, ncols=2, figsize=(8,4))\n",
    "        titles_options = [(\"Confusion matrix\", None), (\"Normalized confusion matrix\", \"true\")]\n",
    "\n",
    "        for (title, normalize), ax in zip(titles_options, axes.flatten()):\n",
    "            disp = ConfusionMatrixDisplay.from_estimator(classifier, X_test, y_test, ax=ax, cmap=plt.cm.Blues, normalize=normalize)\n",
    "            disp.ax_.set_title(title)\n",
    "        plt.show()"
   ]
  },
  {
   "cell_type": "code",
   "execution_count": 21,
   "id": "f01076d9",
   "metadata": {},
   "outputs": [
    {
     "name": "stdout",
     "output_type": "stream",
     "text": [
      "오차 행렬\n",
      "[[26  0  0  0  0]\n",
      " [ 0 25  0  0  0]\n",
      " [ 0  0 25  0  0]\n",
      " [ 0  0  0 25  0]\n",
      " [ 0  0  0  0 25]]\n",
      "정확도: 1.0000, 정밀도: 1.0000, 재현율: 1.0000, F1:1.0000\n",
      "###########################################################################\n"
     ]
    },
    {
     "data": {
      "image/png": "[encoded data removed]",
      "text/plain": [
       "<Figure size 800x400 with 4 Axes>"
      ]
     },
     "metadata": {},
     "output_type": "display_data"
    },
    {
     "data": {
      "text/plain": [
       "1.0"
      ]
     },
     "execution_count": 21,
     "metadata": {},
     "output_type": "execute_result"
    }
   ],
   "source": [
    "y_pred = grid_knn.predict(X_test)\n",
    "\n",
    "get_evaluation(y_test,y_pred,grid_knn,X_test)\n",
    "accuracy_score(y_test,y_pred)"
   ]
  }
 ],
 "metadata": {
  "kernelspec": {
   "display_name": "Python 3 (ipykernel)",
   "language": "python",
   "name": "python3"
  },
  "language_info": {
   "codemirror_mode": {
    "name": "ipython",
    "version": 3
   },
   "file_extension": ".py",
   "mimetype": "text/x-python",
   "name": "python",
   "nbconvert_exporter": "python",
   "pygments_lexer": "ipython3",
   "version": "3.11.5"
  }
 },
 "nbformat": 4,
 "nbformat_minor": 5
}
